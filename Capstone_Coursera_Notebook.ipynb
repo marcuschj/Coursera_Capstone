{
 "cells": [
  {
   "cell_type": "markdown",
   "metadata": {
    "collapsed": true
   },
   "source": [
    "## IBM Data Science Capstone Project\n",
    "### Marcus Chua \n",
    "\n",
    "# Opportunities for upcoming café chains in Seoul, South Korea"
   ]
  },
  {
   "cell_type": "markdown",
   "metadata": {},
   "source": [
    "#### Problem Statement\n",
    "\n",
    "Opportunities for upcoming café chains in Seoul, South Korea.\n",
    "\n",
    "#### Background\n",
    "\n",
    "Seoul, a city defined by world-leading digital connectivity, is without a doubt among the most advanced cities in Asia. Its rapid modernisation has transformed the capital into a metropolitan area, making it a perfect entry location for businesses. In a region where cafés have become a part of every city dwellers’ lifestyle, there is a huge demand for more of such businesses to open. \n",
    "As Seoul is a large city split into 25 districts (‘gu’), I will aim to analyse the problem by looking into existing café venues within the individual districts. More specifically, I will be focusing my research on the 5 core financial and commercial districts – Songpa-gu, Yeongdeongpo-gu, Seocho-gu, Jung-gu and Gangnam-gu.\n",
    "\n",
    "#### Target Audience\n",
    "\n",
    "The following clients/ groups of people would take interest in my research:\n",
    "1.\tBusinesses/Entrepreneurs - Any café business considering their opportunities in Seoul. This could either be a small boutique cafés looking to enter the market in Seoul, or an international chain looking to add new outlets and expand its market share within the city. \n",
    "\n",
    "2.\tConsumers - The multitude of coffee-lovers dwelling in the urban areas of Seoul, or the streams of international tourists who view Seoul as an exciting holiday destination.\n",
    "\n",
    "3.\tData Scientists – Any individual with interest in exploratory analysis and would like some to glean some project ideas/techniques from my work.\n"
   ]
  },
  {
   "cell_type": "markdown",
   "metadata": {},
   "source": [
    "#### Data Sources\n",
    "\n",
    "I will be using a page on Wikipedia (List of Districts in Seoul) to obtain basic information such as Population and Area of the 25 districts.\n",
    "\n",
    "I will then use the Geopy client to obtain location data of the districts. The Nominatim.geocode function will enable me to assess the exact coordinates of the districts. The coordinates will be assigned to the districts extracted from the Wikipedia table. \n",
    "\n",
    "Following this, I will primarily be using the Foursquare API to extract any remaining data to be used. I will narrow down the scope to the 5 abovementioned districts and use Foursquare location data to sieve out venues within the districts. This will be done using the search tool to return a list of venues near the current location (district centre), with each venue having its own venue ID.\n",
    "With another Foursquare API request, the venues will then be filtered so that only cafés remain. The venue ID of each venue will be used to extract the venue category, so that the cafés can be extracted.\n",
    "\n",
    "Finally, the data will be analysed using clustering methods and visualised with tools from the Folium library.\n"
   ]
  }
 ],
 "metadata": {
  "kernelspec": {
   "display_name": "Python 3.6",
   "language": "python",
   "name": "python3"
  },
  "language_info": {
   "codemirror_mode": {
    "name": "ipython",
    "version": 3
   },
   "file_extension": ".py",
   "mimetype": "text/x-python",
   "name": "python",
   "nbconvert_exporter": "python",
   "pygments_lexer": "ipython3",
   "version": "3.6.9"
  }
 },
 "nbformat": 4,
 "nbformat_minor": 1
}
